{
 "cells": [
  {
   "cell_type": "code",
   "execution_count": 12,
   "id": "3bcd3a6a-f232-408d-a962-daebbc71c64c",
   "metadata": {},
   "outputs": [],
   "source": [
    "import os\n",
    "import glob\n",
    "import torch\n",
    "import numpy as np\n",
    "import pandas as pd\n",
    "import networkx as nx"
   ]
  },
  {
   "cell_type": "code",
   "execution_count": 6,
   "id": "8a70cb86-5915-418b-9c15-4f12c776eb3d",
   "metadata": {
    "tags": []
   },
   "outputs": [
    {
     "name": "stdout",
     "output_type": "stream",
     "text": [
      "Loading topology data... /home/jh/2python_pr/Abilene_DRL/data_processed/node_list_data.npy\n"
     ]
    }
   ],
   "source": [
    "path = os.getcwd()\n",
    "# print(path)\n",
    "# parentpath = os.path.abspath(os.path.join(path, os.pardir))\n",
    "file = path + '/data_processed/node_list_data.npy'\n",
    "print('Loading topology data...', file)\n",
    "\n",
    "traffic_file = glob.glob(path + f'/data/X01*') \n",
    "f = open(traffic_file[0], 'r')"
   ]
  },
  {
   "cell_type": "code",
   "execution_count": 3,
   "id": "37d5904c-60d9-4940-a055-211bc8ef4392",
   "metadata": {
    "tags": []
   },
   "outputs": [],
   "source": [
    "with open(file, 'rb') as f:\n",
    "            header = np.load(f)\n",
    "            node = np.load(f)\n",
    "            link = np.load(f)"
   ]
  },
  {
   "cell_type": "code",
   "execution_count": 4,
   "id": "1b13cf20-e011-4f81-841e-d7e5d604cea2",
   "metadata": {
    "tags": []
   },
   "outputs": [],
   "source": [
    "G = nx.DiGraph()"
   ]
  },
  {
   "cell_type": "code",
   "execution_count": 5,
   "id": "b3cb327b-9e1f-4125-af1c-b92056859e33",
   "metadata": {
    "tags": []
   },
   "outputs": [],
   "source": [
    "for each_info in link:\n",
    "    start, destination, s, d, i, c, w = each_info\n",
    "    capacity = float(c) / (10**(4))\n",
    "    G.add_weighted_edges_from([(int(s), int(d), capacity)])"
   ]
  },
  {
   "cell_type": "code",
   "execution_count": 9,
   "id": "e9786870-00c6-47c9-b57b-99f4d1e748ca",
   "metadata": {
    "tags": []
   },
   "outputs": [
    {
     "data": {
      "text/plain": [
       "992.0"
      ]
     },
     "execution_count": 9,
     "metadata": {},
     "output_type": "execute_result"
    }
   ],
   "source": [
    "G[0][1]['weight']"
   ]
  },
  {
   "cell_type": "code",
   "execution_count": 6,
   "id": "9a4d1c13-6263-4d71-8e56-2aaf1189d24d",
   "metadata": {
    "tags": []
   },
   "outputs": [],
   "source": [
    "edge_weights = np.array([G[u][v].get('weight', 1.0) for u, v in G.edges])"
   ]
  },
  {
   "cell_type": "code",
   "execution_count": 7,
   "id": "abfebd2f-0fe4-4d26-9ca1-8ed29354c84a",
   "metadata": {
    "tags": []
   },
   "outputs": [
    {
     "name": "stdout",
     "output_type": "stream",
     "text": [
      "0 1 992.0\n",
      "1 0 992.0\n",
      "1 4 992.0\n",
      "1 5 248.0\n",
      "1 11 992.0\n",
      "4 1 992.0\n",
      "4 6 992.0\n",
      "4 7 992.0\n",
      "5 1 248.0\n",
      "5 2 992.0\n",
      "5 6 992.0\n",
      "11 1 992.0\n",
      "11 8 992.0\n",
      "2 5 992.0\n",
      "2 8 992.0\n",
      "8 2 992.0\n",
      "8 11 992.0\n",
      "3 6 992.0\n",
      "3 9 992.0\n",
      "3 10 992.0\n",
      "6 3 992.0\n",
      "6 4 992.0\n",
      "6 5 992.0\n",
      "9 3 992.0\n",
      "9 7 992.0\n",
      "9 10 992.0\n",
      "10 3 992.0\n",
      "10 9 992.0\n",
      "7 4 992.0\n",
      "7 9 992.0\n"
     ]
    }
   ],
   "source": [
    "for u, v in G.edges:\n",
    "    print(u, v, G[u][v].get('weight', 1.0))"
   ]
  },
  {
   "cell_type": "code",
   "execution_count": 8,
   "id": "2fef2849-ca57-47bb-8502-a0ce1ec7b9e4",
   "metadata": {
    "tags": []
   },
   "outputs": [],
   "source": [
    "edge_weights = np.array([G[u][v].get('weight', 1.0) for u, v in G.edges])"
   ]
  },
  {
   "cell_type": "code",
   "execution_count": 9,
   "id": "d6505502-e92a-46f3-bf8f-e73f16138d51",
   "metadata": {
    "tags": []
   },
   "outputs": [],
   "source": [
    "edge_attr = torch.tensor(edge_weights, dtype=torch.float32)"
   ]
  },
  {
   "cell_type": "code",
   "execution_count": 11,
   "id": "86a6ddf2-fe6e-4fcd-808d-748bc42ce6bc",
   "metadata": {
    "tags": []
   },
   "outputs": [
    {
     "data": {
      "text/plain": [
       "np.int64(24804)"
      ]
     },
     "execution_count": 11,
     "metadata": {},
     "output_type": "execute_result"
    }
   ],
   "source": [
    "np.sum(link[:, -1].astype('int'))"
   ]
  },
  {
   "cell_type": "code",
   "execution_count": 8,
   "id": "d70ec173-d720-487b-b9dd-2739678ed885",
   "metadata": {},
   "outputs": [],
   "source": [
    "traffic_matrices = []\n",
    "for line in f:\n",
    "    volumes = line.strip().split(' ')\n",
    "    total_volume_cnt = len(volumes)\n",
    "    # print(total_volume_cnt, self.num_node)\n",
    "    assert total_volume_cnt == 12 * 12 * 5\n",
    "    matrix = np.zeros((5, 12, 12))\n",
    "    for v in range(total_volume_cnt):\n",
    "\n",
    "        channel = v % 5\n",
    "        row = int( ((v - channel) / 5) // 12 )\n",
    "        column = int( ((v - channel) / 5) % 12 )\n",
    "        if row != column:\n",
    "            matrix[channel][row, column] = float(volumes[v]) \n",
    "\n",
    "    traffic_matrices.append(matrix)"
   ]
  },
  {
   "cell_type": "code",
   "execution_count": 13,
   "id": "60a4297c-a6a8-4b23-9b33-d8028e71e841",
   "metadata": {
    "tags": []
   },
   "outputs": [],
   "source": [
    "df = pd.DataFrame(traffic_matrices[0][0][:])"
   ]
  },
  {
   "cell_type": "code",
   "execution_count": 14,
   "id": "8eb9d415-d356-4dd8-86ba-03e7fbee8f55",
   "metadata": {
    "tags": []
   },
   "outputs": [
    {
     "data": {
      "text/html": [
       "<div>\n",
       "<style scoped>\n",
       "    .dataframe tbody tr th:only-of-type {\n",
       "        vertical-align: middle;\n",
       "    }\n",
       "\n",
       "    .dataframe tbody tr th {\n",
       "        vertical-align: top;\n",
       "    }\n",
       "\n",
       "    .dataframe thead th {\n",
       "        text-align: right;\n",
       "    }\n",
       "</style>\n",
       "<table border=\"1\" class=\"dataframe\">\n",
       "  <thead>\n",
       "    <tr style=\"text-align: right;\">\n",
       "      <th></th>\n",
       "      <th>0</th>\n",
       "      <th>1</th>\n",
       "      <th>2</th>\n",
       "      <th>3</th>\n",
       "      <th>4</th>\n",
       "      <th>5</th>\n",
       "      <th>6</th>\n",
       "      <th>7</th>\n",
       "      <th>8</th>\n",
       "      <th>9</th>\n",
       "      <th>10</th>\n",
       "      <th>11</th>\n",
       "    </tr>\n",
       "  </thead>\n",
       "  <tbody>\n",
       "    <tr>\n",
       "      <th>0</th>\n",
       "      <td>0.0</td>\n",
       "      <td>195828.0</td>\n",
       "      <td>615502.0</td>\n",
       "      <td>125898.0</td>\n",
       "      <td>154887.0</td>\n",
       "      <td>183703.0</td>\n",
       "      <td>136904.0</td>\n",
       "      <td>306701.0</td>\n",
       "      <td>169523.0</td>\n",
       "      <td>280277.0</td>\n",
       "      <td>145619.0</td>\n",
       "      <td>1178115.0</td>\n",
       "    </tr>\n",
       "    <tr>\n",
       "      <th>1</th>\n",
       "      <td>166931.0</td>\n",
       "      <td>0.0</td>\n",
       "      <td>6106169.0</td>\n",
       "      <td>1938388.0</td>\n",
       "      <td>1474276.0</td>\n",
       "      <td>10256961.0</td>\n",
       "      <td>1816513.0</td>\n",
       "      <td>6836966.0</td>\n",
       "      <td>4801483.0</td>\n",
       "      <td>533208.0</td>\n",
       "      <td>3359056.0</td>\n",
       "      <td>19405592.0</td>\n",
       "    </tr>\n",
       "    <tr>\n",
       "      <th>2</th>\n",
       "      <td>1422635.0</td>\n",
       "      <td>4775747.0</td>\n",
       "      <td>0.0</td>\n",
       "      <td>5151845.0</td>\n",
       "      <td>3686376.0</td>\n",
       "      <td>9884916.0</td>\n",
       "      <td>2451656.0</td>\n",
       "      <td>10415963.0</td>\n",
       "      <td>5286877.0</td>\n",
       "      <td>681353.0</td>\n",
       "      <td>1685721.0</td>\n",
       "      <td>3992645.0</td>\n",
       "    </tr>\n",
       "    <tr>\n",
       "      <th>3</th>\n",
       "      <td>86552.0</td>\n",
       "      <td>878056.0</td>\n",
       "      <td>14444321.0</td>\n",
       "      <td>0.0</td>\n",
       "      <td>3153286.0</td>\n",
       "      <td>2702903.0</td>\n",
       "      <td>1480837.0</td>\n",
       "      <td>8015838.0</td>\n",
       "      <td>2146278.0</td>\n",
       "      <td>5394549.0</td>\n",
       "      <td>3978549.0</td>\n",
       "      <td>4593323.0</td>\n",
       "    </tr>\n",
       "    <tr>\n",
       "      <th>4</th>\n",
       "      <td>89641.0</td>\n",
       "      <td>1108792.0</td>\n",
       "      <td>6334313.0</td>\n",
       "      <td>1384882.0</td>\n",
       "      <td>0.0</td>\n",
       "      <td>3428964.0</td>\n",
       "      <td>2673813.0</td>\n",
       "      <td>36921723.0</td>\n",
       "      <td>2724474.0</td>\n",
       "      <td>1105266.0</td>\n",
       "      <td>839099.0</td>\n",
       "      <td>3189994.0</td>\n",
       "    </tr>\n",
       "    <tr>\n",
       "      <th>5</th>\n",
       "      <td>1787597.0</td>\n",
       "      <td>3470525.0</td>\n",
       "      <td>45766716.0</td>\n",
       "      <td>8016824.0</td>\n",
       "      <td>12440169.0</td>\n",
       "      <td>0.0</td>\n",
       "      <td>3709065.0</td>\n",
       "      <td>9151891.0</td>\n",
       "      <td>15231037.0</td>\n",
       "      <td>1299895.0</td>\n",
       "      <td>5209570.0</td>\n",
       "      <td>15426785.0</td>\n",
       "    </tr>\n",
       "    <tr>\n",
       "      <th>6</th>\n",
       "      <td>157860.0</td>\n",
       "      <td>1666336.0</td>\n",
       "      <td>10114602.0</td>\n",
       "      <td>2022864.0</td>\n",
       "      <td>2053539.0</td>\n",
       "      <td>3006659.0</td>\n",
       "      <td>0.0</td>\n",
       "      <td>3252594.0</td>\n",
       "      <td>4815904.0</td>\n",
       "      <td>458907.0</td>\n",
       "      <td>916602.0</td>\n",
       "      <td>4518164.0</td>\n",
       "    </tr>\n",
       "    <tr>\n",
       "      <th>7</th>\n",
       "      <td>127373.0</td>\n",
       "      <td>7272971.0</td>\n",
       "      <td>33646381.0</td>\n",
       "      <td>3389768.0</td>\n",
       "      <td>3386575.0</td>\n",
       "      <td>16020094.0</td>\n",
       "      <td>5088844.0</td>\n",
       "      <td>0.0</td>\n",
       "      <td>22936657.0</td>\n",
       "      <td>866828.0</td>\n",
       "      <td>9569795.0</td>\n",
       "      <td>20897395.0</td>\n",
       "    </tr>\n",
       "    <tr>\n",
       "      <th>8</th>\n",
       "      <td>1461615.0</td>\n",
       "      <td>15332940.0</td>\n",
       "      <td>20127858.0</td>\n",
       "      <td>6129395.0</td>\n",
       "      <td>8995420.0</td>\n",
       "      <td>31247043.0</td>\n",
       "      <td>9287731.0</td>\n",
       "      <td>26633460.0</td>\n",
       "      <td>0.0</td>\n",
       "      <td>3596757.0</td>\n",
       "      <td>8225459.0</td>\n",
       "      <td>41947778.0</td>\n",
       "    </tr>\n",
       "    <tr>\n",
       "      <th>9</th>\n",
       "      <td>10000.0</td>\n",
       "      <td>390452.0</td>\n",
       "      <td>1892275.0</td>\n",
       "      <td>3902592.0</td>\n",
       "      <td>538756.0</td>\n",
       "      <td>1448104.0</td>\n",
       "      <td>786402.0</td>\n",
       "      <td>750079.0</td>\n",
       "      <td>829298.0</td>\n",
       "      <td>0.0</td>\n",
       "      <td>1236618.0</td>\n",
       "      <td>745390.0</td>\n",
       "    </tr>\n",
       "    <tr>\n",
       "      <th>10</th>\n",
       "      <td>41632.0</td>\n",
       "      <td>5955580.0</td>\n",
       "      <td>8442220.0</td>\n",
       "      <td>1627941.0</td>\n",
       "      <td>4238538.0</td>\n",
       "      <td>2884194.0</td>\n",
       "      <td>847818.0</td>\n",
       "      <td>6662390.0</td>\n",
       "      <td>9317015.0</td>\n",
       "      <td>1783127.0</td>\n",
       "      <td>0.0</td>\n",
       "      <td>3944017.0</td>\n",
       "    </tr>\n",
       "    <tr>\n",
       "      <th>11</th>\n",
       "      <td>4207163.0</td>\n",
       "      <td>47226648.0</td>\n",
       "      <td>24952949.0</td>\n",
       "      <td>13523783.0</td>\n",
       "      <td>5789742.0</td>\n",
       "      <td>23543180.0</td>\n",
       "      <td>12241025.0</td>\n",
       "      <td>34378360.0</td>\n",
       "      <td>50123027.0</td>\n",
       "      <td>742716.0</td>\n",
       "      <td>11160076.0</td>\n",
       "      <td>0.0</td>\n",
       "    </tr>\n",
       "  </tbody>\n",
       "</table>\n",
       "</div>"
      ],
      "text/plain": [
       "           0           1           2           3           4           5   \\\n",
       "0         0.0    195828.0    615502.0    125898.0    154887.0    183703.0   \n",
       "1    166931.0         0.0   6106169.0   1938388.0   1474276.0  10256961.0   \n",
       "2   1422635.0   4775747.0         0.0   5151845.0   3686376.0   9884916.0   \n",
       "3     86552.0    878056.0  14444321.0         0.0   3153286.0   2702903.0   \n",
       "4     89641.0   1108792.0   6334313.0   1384882.0         0.0   3428964.0   \n",
       "5   1787597.0   3470525.0  45766716.0   8016824.0  12440169.0         0.0   \n",
       "6    157860.0   1666336.0  10114602.0   2022864.0   2053539.0   3006659.0   \n",
       "7    127373.0   7272971.0  33646381.0   3389768.0   3386575.0  16020094.0   \n",
       "8   1461615.0  15332940.0  20127858.0   6129395.0   8995420.0  31247043.0   \n",
       "9     10000.0    390452.0   1892275.0   3902592.0    538756.0   1448104.0   \n",
       "10    41632.0   5955580.0   8442220.0   1627941.0   4238538.0   2884194.0   \n",
       "11  4207163.0  47226648.0  24952949.0  13523783.0   5789742.0  23543180.0   \n",
       "\n",
       "            6           7           8          9           10          11  \n",
       "0     136904.0    306701.0    169523.0   280277.0    145619.0   1178115.0  \n",
       "1    1816513.0   6836966.0   4801483.0   533208.0   3359056.0  19405592.0  \n",
       "2    2451656.0  10415963.0   5286877.0   681353.0   1685721.0   3992645.0  \n",
       "3    1480837.0   8015838.0   2146278.0  5394549.0   3978549.0   4593323.0  \n",
       "4    2673813.0  36921723.0   2724474.0  1105266.0    839099.0   3189994.0  \n",
       "5    3709065.0   9151891.0  15231037.0  1299895.0   5209570.0  15426785.0  \n",
       "6          0.0   3252594.0   4815904.0   458907.0    916602.0   4518164.0  \n",
       "7    5088844.0         0.0  22936657.0   866828.0   9569795.0  20897395.0  \n",
       "8    9287731.0  26633460.0         0.0  3596757.0   8225459.0  41947778.0  \n",
       "9     786402.0    750079.0    829298.0        0.0   1236618.0    745390.0  \n",
       "10    847818.0   6662390.0   9317015.0  1783127.0         0.0   3944017.0  \n",
       "11  12241025.0  34378360.0  50123027.0   742716.0  11160076.0         0.0  "
      ]
     },
     "execution_count": 14,
     "metadata": {},
     "output_type": "execute_result"
    }
   ],
   "source": [
    "df"
   ]
  },
  {
   "cell_type": "code",
   "execution_count": 19,
   "id": "4dd5635c-aef5-48a2-bf80-d337d0934850",
   "metadata": {
    "tags": []
   },
   "outputs": [],
   "source": [
    "random_number = np.random.rand()"
   ]
  },
  {
   "cell_type": "code",
   "execution_count": 20,
   "id": "55574515-a9e0-4c2a-8f1b-11bee0f4339d",
   "metadata": {
    "tags": []
   },
   "outputs": [
    {
     "data": {
      "text/plain": [
       "0.5590070247174953"
      ]
     },
     "execution_count": 20,
     "metadata": {},
     "output_type": "execute_result"
    }
   ],
   "source": [
    "random_number"
   ]
  },
  {
   "cell_type": "code",
   "execution_count": null,
   "id": "08ac8f6f-7473-47cc-9674-f6b5102a4ef0",
   "metadata": {},
   "outputs": [],
   "source": []
  }
 ],
 "metadata": {
  "kernelspec": {
   "display_name": "abilene",
   "language": "python",
   "name": "abilene"
  },
  "language_info": {
   "codemirror_mode": {
    "name": "ipython",
    "version": 3
   },
   "file_extension": ".py",
   "mimetype": "text/x-python",
   "name": "python",
   "nbconvert_exporter": "python",
   "pygments_lexer": "ipython3",
   "version": "3.11.3"
  }
 },
 "nbformat": 4,
 "nbformat_minor": 5
}
