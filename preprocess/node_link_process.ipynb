{
 "cells": [
  {
   "cell_type": "code",
   "execution_count": 1,
   "id": "44382e5b-1123-461f-85d8-e2ebd8dca985",
   "metadata": {
    "tags": []
   },
   "outputs": [],
   "source": [
    "import os\n",
    "import numpy as np\n",
    "import pandas as pd\n",
    "import matplotlib.pyplot as plt"
   ]
  },
  {
   "cell_type": "code",
   "execution_count": 2,
   "id": "5d8e4481-e222-45b4-8994-e168fe682e33",
   "metadata": {
    "tags": []
   },
   "outputs": [
    {
     "name": "stdout",
     "output_type": "stream",
     "text": [
      "Working directory:  /home/jh/2python_pr/Abilene_DRL/\n"
     ]
    }
   ],
   "source": [
    "crr_dir = os.getcwd()\n",
    "proj_dir = crr_dir[0 : -10]\n",
    "print('Working directory: ', proj_dir)"
   ]
  },
  {
   "cell_type": "code",
   "execution_count": 3,
   "id": "c7e6b3e5-4e66-43b4-9f55-2ea64be76ca7",
   "metadata": {
    "tags": []
   },
   "outputs": [],
   "source": [
    "# organize node and link features\n",
    "f = open(proj_dir + 'data/topo-2003-04-10.txt', 'r')\n",
    "node_feature = np.empty((0, 4))\n",
    "link_feature = np.empty((0, 4))\n",
    "\n",
    "# extract node and link feature from topo-2003-04-10.txt\n",
    "for i, each_line in enumerate(f):\n",
    "\n",
    "    if i >=2 and i < 14:\n",
    "        each_line_data = each_line.split('\\t')\n",
    "        each_line_data[-1] = each_line_data[-1][0:-2]\n",
    "        node_feature = np.concat((node_feature, [each_line_data]))\n",
    "    if i >= 18:\n",
    "        each_line_data = each_line.split('\\t')\n",
    "        each_line_data[-1] = each_line_data[-1][0:-1]\n",
    "        link_feature = np.concat((link_feature, [each_line_data]))\n",
    "\n",
    "# create node index\n",
    "id_arr = np.arange(node_feature.shape[0]).reshape(-1, 1)\n",
    "node_feature = np.concat((id_arr, node_feature), axis = 1)\n",
    "\n",
    "f.close()"
   ]
  },
  {
   "cell_type": "code",
   "execution_count": 4,
   "id": "5d5a7483-5340-4cb2-80ef-d30e3679e765",
   "metadata": {
    "tags": []
   },
   "outputs": [],
   "source": [
    "f_l = open(proj_dir + 'data/links', 'r')\n",
    "\n",
    "# extract link index from links file\n",
    "link_info = np.empty((0, 4))\n",
    "for i, each_line in enumerate(f_l):\n",
    "    if i >= 2:\n",
    "        st = each_line.split(',')[0]\n",
    "        dt = each_line.split(',')[1].split(' ')\n",
    "        link_type = dt[-1][0]\n",
    "        crr_list = [st]\n",
    "        crr_list.extend(dt[0:2])\n",
    "        crr_list.append(link_type)\n",
    "        link_info = np.concat((link_info, [crr_list]))\n",
    "f_l.close()"
   ]
  },
  {
   "cell_type": "code",
   "execution_count": 5,
   "id": "9cf343f8-6e14-4bdf-baa6-71680074d475",
   "metadata": {
    "tags": []
   },
   "outputs": [],
   "source": [
    "link_index = np.empty((0, 1), dtype=int)\n",
    "for i in range(len(link_feature)):\n",
    "    for j in range(len(link_info)):       \n",
    "        if np.all(link_feature[i, 0:2] == link_info[j, 0:2]):\n",
    "            link_index = np.concat((link_index, np.reshape(link_info[j, 2], (-1,1)).astype(int)-1 ))\n",
    "link_feature = np.concat((link_feature, link_index), axis = 1)"
   ]
  },
  {
   "cell_type": "code",
   "execution_count": 6,
   "id": "237db32f-5e10-4834-812f-77c37fd89b7a",
   "metadata": {
    "tags": []
   },
   "outputs": [],
   "source": [
    "# In link feature, define source and destination id from node feature\n",
    "num_row = link_feature.shape[0]\n",
    "sd_id = np.empty((num_row, 2), dtype = 'int')\n",
    "for row in range(num_row):\n",
    "    source = link_feature[row, 0]\n",
    "    destination = link_feature[row, 1]\n",
    "    s_id = node_feature[node_feature[:, 1] == source, 0]\n",
    "    d_id = node_feature[node_feature[:, 1] == destination, 0]\n",
    "    sd_id[row, 0] = int(s_id[0])\n",
    "    sd_id[row, 1] = int(d_id[0])\n",
    "link_feature = np.concat((link_feature, sd_id), axis = 1)\n",
    "link_feature = link_feature[:, [0, 1, 5, 6, 4, 2, 3]]"
   ]
  },
  {
   "cell_type": "code",
   "execution_count": 7,
   "id": "84e3087e-9390-4566-a4fe-bf5e3b89e56d",
   "metadata": {
    "tags": []
   },
   "outputs": [],
   "source": [
    "with open(proj_dir + 'data_processed/node_list_data.npy', 'wb') as f:\n",
    "    header = np.save(f, 'node info: [id, name, city, latitude, longitude], link info: [start, desination, start_id, destination_id, link_id, capacity (kbps), OSPF, link_index]')\n",
    "    node = np.save(f, node_feature)\n",
    "    link = np.save(f, link_feature)"
   ]
  }
 ],
 "metadata": {
  "kernelspec": {
   "display_name": "abilene",
   "language": "python",
   "name": "abilene"
  },
  "language_info": {
   "codemirror_mode": {
    "name": "ipython",
    "version": 3
   },
   "file_extension": ".py",
   "mimetype": "text/x-python",
   "name": "python",
   "nbconvert_exporter": "python",
   "pygments_lexer": "ipython3",
   "version": "3.11.3"
  }
 },
 "nbformat": 4,
 "nbformat_minor": 5
}
