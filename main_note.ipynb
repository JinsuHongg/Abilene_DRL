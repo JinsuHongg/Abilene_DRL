{
 "cells": [
  {
   "cell_type": "code",
   "execution_count": 28,
   "id": "772e7394-bcbb-4316-a207-0200666f1b41",
   "metadata": {
    "tags": []
   },
   "outputs": [],
   "source": [
    "import os\n",
    "import glob\n",
    "import numpy as np\n",
    "from scripts.env import Environment\n",
    "from scripts.dataloader import Topology_Traffic"
   ]
  },
  {
   "cell_type": "code",
   "execution_count": 29,
   "id": "b09ae913-e8f0-4056-871b-7ba781c0cb97",
   "metadata": {},
   "outputs": [
    {
     "name": "stdout",
     "output_type": "stream",
     "text": [
      "Loading topology data... /home/jh/2python_pr/Abilene_DRL/data_processed/node_list_data.npy\n",
      "Loading traffic matrices... /home/jh/2python_pr/Abilene_DRL/data/X01\n",
      "Traffic matrices dims: (2016, 5, 12, 12)\n"
     ]
    }
   ],
   "source": [
    "topo = Topology_Traffic()"
   ]
  },
  {
   "cell_type": "code",
   "execution_count": 30,
   "id": "15aca9c0-44fe-4a84-be68-f6aebf8717a7",
   "metadata": {
    "tags": []
   },
   "outputs": [
    {
     "ename": "AttributeError",
     "evalue": "'DiGraph' object has no attribute 'x'",
     "output_type": "error",
     "traceback": [
      "\u001b[0;31m---------------------------------------------------------------------------\u001b[0m",
      "\u001b[0;31mAttributeError\u001b[0m                            Traceback (most recent call last)",
      "Cell \u001b[0;32mIn[30], line 1\u001b[0m\n\u001b[0;32m----> 1\u001b[0m \u001b[43mtopo\u001b[49m\u001b[38;5;241;43m.\u001b[39;49m\u001b[43mDG\u001b[49m\u001b[38;5;241;43m.\u001b[39;49m\u001b[43mx\u001b[49m\n",
      "\u001b[0;31mAttributeError\u001b[0m: 'DiGraph' object has no attribute 'x'"
     ]
    }
   ],
   "source": [
    "topo.DG.x"
   ]
  },
  {
   "cell_type": "code",
   "execution_count": 20,
   "id": "08eeeb9a-78d3-4c7a-8985-d2c491c3960e",
   "metadata": {
    "tags": []
   },
   "outputs": [
    {
     "data": {
      "text/plain": [
       "(2016, 5, 12, 12)"
      ]
     },
     "execution_count": 20,
     "metadata": {},
     "output_type": "execute_result"
    }
   ],
   "source": [
    "topo.traffic_matrices.shape"
   ]
  },
  {
   "cell_type": "code",
   "execution_count": 24,
   "id": "43b2fddc-b15a-4ea6-bc46-4e0b57c85f9c",
   "metadata": {
    "tags": []
   },
   "outputs": [
    {
     "data": {
      "text/plain": [
       "array([[0.0000000e+00, 1.9582800e+05, 6.1550200e+05, 1.2589800e+05,\n",
       "        1.5488700e+05, 1.8370300e+05, 1.3690400e+05, 3.0670100e+05,\n",
       "        1.6952300e+05, 2.8027700e+05, 1.4561900e+05, 1.1781150e+06],\n",
       "       [1.6693100e+05, 0.0000000e+00, 6.1061690e+06, 1.9383880e+06,\n",
       "        1.4742760e+06, 1.0256961e+07, 1.8165130e+06, 6.8369660e+06,\n",
       "        4.8014830e+06, 5.3320800e+05, 3.3590560e+06, 1.9405592e+07],\n",
       "       [1.4226350e+06, 4.7757470e+06, 0.0000000e+00, 5.1518450e+06,\n",
       "        3.6863760e+06, 9.8849160e+06, 2.4516560e+06, 1.0415963e+07,\n",
       "        5.2868770e+06, 6.8135300e+05, 1.6857210e+06, 3.9926450e+06],\n",
       "       [8.6552000e+04, 8.7805600e+05, 1.4444321e+07, 0.0000000e+00,\n",
       "        3.1532860e+06, 2.7029030e+06, 1.4808370e+06, 8.0158380e+06,\n",
       "        2.1462780e+06, 5.3945490e+06, 3.9785490e+06, 4.5933230e+06],\n",
       "       [8.9641000e+04, 1.1087920e+06, 6.3343130e+06, 1.3848820e+06,\n",
       "        0.0000000e+00, 3.4289640e+06, 2.6738130e+06, 3.6921723e+07,\n",
       "        2.7244740e+06, 1.1052660e+06, 8.3909900e+05, 3.1899940e+06],\n",
       "       [1.7875970e+06, 3.4705250e+06, 4.5766716e+07, 8.0168240e+06,\n",
       "        1.2440169e+07, 0.0000000e+00, 3.7090650e+06, 9.1518910e+06,\n",
       "        1.5231037e+07, 1.2998950e+06, 5.2095700e+06, 1.5426785e+07],\n",
       "       [1.5786000e+05, 1.6663360e+06, 1.0114602e+07, 2.0228640e+06,\n",
       "        2.0535390e+06, 3.0066590e+06, 0.0000000e+00, 3.2525940e+06,\n",
       "        4.8159040e+06, 4.5890700e+05, 9.1660200e+05, 4.5181640e+06],\n",
       "       [1.2737300e+05, 7.2729710e+06, 3.3646381e+07, 3.3897680e+06,\n",
       "        3.3865750e+06, 1.6020094e+07, 5.0888440e+06, 0.0000000e+00,\n",
       "        2.2936657e+07, 8.6682800e+05, 9.5697950e+06, 2.0897395e+07],\n",
       "       [1.4616150e+06, 1.5332940e+07, 2.0127858e+07, 6.1293950e+06,\n",
       "        8.9954200e+06, 3.1247043e+07, 9.2877310e+06, 2.6633460e+07,\n",
       "        0.0000000e+00, 3.5967570e+06, 8.2254590e+06, 4.1947778e+07],\n",
       "       [1.0000000e+04, 3.9045200e+05, 1.8922750e+06, 3.9025920e+06,\n",
       "        5.3875600e+05, 1.4481040e+06, 7.8640200e+05, 7.5007900e+05,\n",
       "        8.2929800e+05, 0.0000000e+00, 1.2366180e+06, 7.4539000e+05],\n",
       "       [4.1632000e+04, 5.9555800e+06, 8.4422200e+06, 1.6279410e+06,\n",
       "        4.2385380e+06, 2.8841940e+06, 8.4781800e+05, 6.6623900e+06,\n",
       "        9.3170150e+06, 1.7831270e+06, 0.0000000e+00, 3.9440170e+06],\n",
       "       [4.2071630e+06, 4.7226648e+07, 2.4952949e+07, 1.3523783e+07,\n",
       "        5.7897420e+06, 2.3543180e+07, 1.2241025e+07, 3.4378360e+07,\n",
       "        5.0123027e+07, 7.4271600e+05, 1.1160076e+07, 0.0000000e+00]])"
      ]
     },
     "execution_count": 24,
     "metadata": {},
     "output_type": "execute_result"
    }
   ],
   "source": [
    "topo.traffic_matrices[0][0][:]"
   ]
  },
  {
   "cell_type": "code",
   "execution_count": 10,
   "id": "f6fa88bd-4476-4637-80a6-328c9d47f495",
   "metadata": {
    "tags": []
   },
   "outputs": [
    {
     "data": {
      "text/plain": [
       "OutEdgeDataView([(0, 1, {'weight': 1}), (1, 0, {'weight': 1}), (1, 4, {'weight': 1176}), (1, 5, {'weight': 587}), (1, 11, {'weight': 846}), (4, 1, {'weight': 1176}), (4, 6, {'weight': 902}), (4, 7, {'weight': 1893}), (5, 1, {'weight': 587}), (5, 2, {'weight': 260}), (5, 6, {'weight': 548}), (11, 1, {'weight': 846}), (11, 8, {'weight': 233}), (2, 5, {'weight': 260}), (2, 8, {'weight': 700}), (8, 2, {'weight': 700}), (8, 11, {'weight': 233}), (3, 6, {'weight': 639}), (3, 9, {'weight': 1295}), (3, 10, {'weight': 2095}), (6, 3, {'weight': 639}), (6, 4, {'weight': 902}), (6, 5, {'weight': 548}), (9, 3, {'weight': 1295}), (9, 7, {'weight': 366}), (9, 10, {'weight': 861}), (10, 3, {'weight': 2095}), (10, 9, {'weight': 861}), (7, 4, {'weight': 1893}), (7, 9, {'weight': 366})])"
      ]
     },
     "execution_count": 10,
     "metadata": {},
     "output_type": "execute_result"
    }
   ],
   "source": [
    "topo.DG.edges(data=True)"
   ]
  },
  {
   "cell_type": "code",
   "execution_count": 11,
   "id": "2faae621-04c9-4cbc-9d69-7002abd23095",
   "metadata": {
    "tags": []
   },
   "outputs": [
    {
     "name": "stdout",
     "output_type": "stream",
     "text": [
      "0 1 {'weight': 1}\n",
      "1 0 {'weight': 1}\n",
      "1 4 {'weight': 1176}\n",
      "1 5 {'weight': 587}\n",
      "1 11 {'weight': 846}\n",
      "4 1 {'weight': 1176}\n",
      "4 6 {'weight': 902}\n",
      "4 7 {'weight': 1893}\n",
      "5 1 {'weight': 587}\n",
      "5 2 {'weight': 260}\n",
      "5 6 {'weight': 548}\n",
      "11 1 {'weight': 846}\n",
      "11 8 {'weight': 233}\n",
      "2 5 {'weight': 260}\n",
      "2 8 {'weight': 700}\n",
      "8 2 {'weight': 700}\n",
      "8 11 {'weight': 233}\n",
      "3 6 {'weight': 639}\n",
      "3 9 {'weight': 1295}\n",
      "3 10 {'weight': 2095}\n",
      "6 3 {'weight': 639}\n",
      "6 4 {'weight': 902}\n",
      "6 5 {'weight': 548}\n",
      "9 3 {'weight': 1295}\n",
      "9 7 {'weight': 366}\n",
      "9 10 {'weight': 861}\n",
      "10 3 {'weight': 2095}\n",
      "10 9 {'weight': 861}\n",
      "7 4 {'weight': 1893}\n",
      "7 9 {'weight': 366}\n"
     ]
    }
   ],
   "source": [
    "for i, j ,k in topo.DG.edges(data=True):\n",
    "    print(i, j, k)"
   ]
  },
  {
   "cell_type": "code",
   "execution_count": 27,
   "id": "96cfc6a1-7158-4d0a-8dc1-e04a31fac561",
   "metadata": {
    "tags": []
   },
   "outputs": [
    {
     "name": "stdout",
     "output_type": "stream",
     "text": [
      "0\n",
      "1\n",
      "2\n",
      "0\n",
      "1\n",
      "2\n",
      "0\n",
      "1\n",
      "2\n"
     ]
    }
   ],
   "source": [
    "a = np.array([[1, 2, 3], [2, 3, 4], [5, 6, 7]])\n",
    "\n",
    "for src_idx, row in enumerate(a):\n",
    "    for dst_idx, traffic in enumerate(row):\n",
    "        print(dst_idx)"
   ]
  },
  {
   "cell_type": "code",
   "execution_count": null,
   "id": "3cc3edd1-660c-405a-a6ee-d3e8f6b318d8",
   "metadata": {},
   "outputs": [],
   "source": []
  }
 ],
 "metadata": {
  "kernelspec": {
   "display_name": "abilene",
   "language": "python",
   "name": "abilene"
  },
  "language_info": {
   "codemirror_mode": {
    "name": "ipython",
    "version": 3
   },
   "file_extension": ".py",
   "mimetype": "text/x-python",
   "name": "python",
   "nbconvert_exporter": "python",
   "pygments_lexer": "ipython3",
   "version": "3.11.3"
  }
 },
 "nbformat": 4,
 "nbformat_minor": 5
}
