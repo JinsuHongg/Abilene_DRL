{
 "cells": [
  {
   "cell_type": "code",
   "execution_count": 1,
   "id": "772e7394-bcbb-4316-a207-0200666f1b41",
   "metadata": {
    "tags": []
   },
   "outputs": [],
   "source": [
    "import os\n",
    "import glob\n",
    "import numpy as np\n",
    "from scripts.env import Environment\n",
    "from scripts.dataloader import Topology_Traffic"
   ]
  },
  {
   "cell_type": "code",
   "execution_count": 2,
   "id": "567dcd40-af54-42f4-bc62-f9a22470dae9",
   "metadata": {
    "tags": []
   },
   "outputs": [
    {
     "name": "stdout",
     "output_type": "stream",
     "text": [
      "Loading topology data... /home/jh/2python_pr/Abilene_DRL/data_processed/node_list_data.npy\n",
      "Loading traffic matrices... /home/jh/2python_pr/Abilene_DRL/data/X01\n",
      "Traffic matrices dims: (2016, 5, 12, 12)\n",
      "Loading topology data... /home/jh/2python_pr/Abilene_DRL/data_processed/node_list_data.npy\n",
      "Loading traffic matrices... /home/jh/2python_pr/Abilene_DRL/data/X01\n",
      "Traffic matrices dims: (2016, 5, 12, 12)\n"
     ]
    }
   ],
   "source": [
    "a = Topology_Traffic()\n",
    "b = Environment()"
   ]
  },
  {
   "cell_type": "code",
   "execution_count": 3,
   "id": "7887d2bf-5bc0-491b-b6d2-012475677a3d",
   "metadata": {
    "scrolled": true,
    "tags": []
   },
   "outputs": [
    {
     "data": {
      "text/plain": [
       "array([[2.60416667e+01, 5.09968750e+02, 1.60286979e+03, 3.27859375e+02,\n",
       "        4.03351562e+02, 4.78393229e+02, 3.56520833e+02, 7.98700521e+02,\n",
       "        4.41466146e+02, 7.29888021e+02, 3.79216146e+02, 3.06800781e+03],\n",
       "       [4.34716146e+02, 8.07233880e+04, 1.59014818e+04, 5.04788542e+03,\n",
       "        3.83926042e+03, 2.67108359e+04, 4.73050260e+03, 1.78045990e+04,\n",
       "        1.25038620e+04, 1.38856250e+03, 8.74754167e+03, 5.05353958e+04],\n",
       "       [3.70477865e+03, 1.24368411e+04, 2.80707344e+04, 1.34162630e+04,\n",
       "        9.59993750e+03, 2.57419688e+04, 6.38452083e+03, 2.71249036e+04,\n",
       "        1.37679089e+04, 1.77435677e+03, 4.38989844e+03, 1.03975130e+04],\n",
       "       [2.25395833e+02, 2.28660417e+03, 3.76154193e+04, 3.67381771e+03,\n",
       "        8.21168229e+03, 7.03880990e+03, 3.85634635e+03, 2.08745781e+04,\n",
       "        5.58926562e+03, 1.40483047e+04, 1.03608047e+04, 1.19617786e+04],\n",
       "       [2.33440104e+02, 2.88747917e+03, 1.64956068e+04, 3.60646354e+03,\n",
       "        5.47490104e+03, 8.92959375e+03, 6.96305469e+03, 9.61503203e+04,\n",
       "        7.09498438e+03, 2.87829688e+03, 2.18515365e+03, 8.30727604e+03],\n",
       "       [4.65520052e+03, 9.03782552e+03, 1.19184156e+05, 2.08771458e+04,\n",
       "        3.23962734e+04, 2.23135312e+04, 9.65902344e+03, 2.38330495e+04,\n",
       "        3.96641589e+04, 3.38514323e+03, 1.35665885e+04, 4.01739193e+04],\n",
       "       [4.11093750e+02, 4.33941667e+03, 2.63401094e+04, 5.26787500e+03,\n",
       "        5.34775781e+03, 7.82984115e+03, 3.92861198e+03, 8.47029688e+03,\n",
       "        1.25414167e+04, 1.19507031e+03, 2.38698438e+03, 1.17660521e+04],\n",
       "       [3.31700521e+02, 1.89400286e+04, 8.76207839e+04, 8.82752083e+03,\n",
       "        8.81920573e+03, 4.17189948e+04, 1.32521979e+04, 1.11026667e+04,\n",
       "        5.97308776e+04, 2.25736458e+03, 2.49213411e+04, 5.44202995e+04],\n",
       "       [3.80628906e+03, 3.99295312e+04, 5.24162969e+04, 1.59619661e+04,\n",
       "        2.34255729e+04, 8.13725078e+04, 2.41867995e+04, 6.93579688e+04,\n",
       "        1.33589888e+05, 9.36655469e+03, 2.14204661e+04, 1.09239005e+05],\n",
       "       [2.60416667e+01, 1.01680208e+03, 4.92779948e+03, 1.01630000e+04,\n",
       "        1.40301042e+03, 3.77110417e+03, 2.04792188e+03, 1.95333073e+03,\n",
       "        2.15963021e+03, 1.39351641e+04, 3.22035938e+03, 1.94111979e+03],\n",
       "       [1.08416667e+02, 1.55093229e+04, 2.19849479e+04, 4.23942969e+03,\n",
       "        1.10378594e+04, 7.51092188e+03, 2.20785938e+03, 1.73499740e+04,\n",
       "        2.42630599e+04, 4.64355990e+03, 1.01402083e+03, 1.02708776e+04],\n",
       "       [1.09561536e+04, 1.22986062e+05, 6.49816380e+04, 3.52181849e+04,\n",
       "        1.50774531e+04, 6.13103646e+04, 3.18776693e+04, 8.95269792e+04,\n",
       "        1.30528716e+05, 1.93415625e+03, 2.90626979e+04, 1.83255354e+05]])"
      ]
     },
     "execution_count": 3,
     "metadata": {},
     "output_type": "execute_result"
    }
   ],
   "source": [
    "a.traffic_matrices[0][0][:]"
   ]
  },
  {
   "cell_type": "code",
   "execution_count": 4,
   "id": "01aa2b5b-dbb7-46ee-97de-bf9bdc4c499b",
   "metadata": {
    "scrolled": true,
    "tags": []
   },
   "outputs": [],
   "source": [
    "link_util = b.compute_link_utilization(channel = 0)"
   ]
  },
  {
   "cell_type": "code",
   "execution_count": 5,
   "id": "7ea26d95-0f11-4b17-82a0-6b0229303186",
   "metadata": {
    "tags": []
   },
   "outputs": [
    {
     "data": {
      "text/plain": [
       "31"
      ]
     },
     "execution_count": 5,
     "metadata": {},
     "output_type": "execute_result"
    }
   ],
   "source": [
    "len(link_util)"
   ]
  },
  {
   "cell_type": "code",
   "execution_count": 6,
   "id": "925b8609-061e-45fb-abef-44ccf8b96dcb",
   "metadata": {
    "tags": []
   },
   "outputs": [
    {
     "data": {
      "text/plain": [
       "array([0.        , 0.00091696, 0.0025094 , 0.01520927, 0.02677482,\n",
       "       0.01374711, 0.04895593, 0.02461972, 0.03798931, 0.01849625,\n",
       "       0.00910425, 0.00929589, 0.0036285 , 0.02110323, 0.02167651,\n",
       "       0.05561848, 0.04299411, 0.03308841, 0.00560037, 0.04394467,\n",
       "       0.00957178, 0.02453554, 0.05024872, 0.02650319, 0.02391167,\n",
       "       0.01828679, 0.00305714, 0.00867891, 0.00332978, 0.03081734,\n",
       "       0.03779776])"
      ]
     },
     "execution_count": 6,
     "metadata": {},
     "output_type": "execute_result"
    }
   ],
   "source": [
    "link_util"
   ]
  },
  {
   "cell_type": "code",
   "execution_count": null,
   "id": "e0ff7e2a-09fa-4d62-8473-fcb76c31c23f",
   "metadata": {},
   "outputs": [],
   "source": []
  }
 ],
 "metadata": {
  "kernelspec": {
   "display_name": "abilene",
   "language": "python",
   "name": "abilene"
  },
  "language_info": {
   "codemirror_mode": {
    "name": "ipython",
    "version": 3
   },
   "file_extension": ".py",
   "mimetype": "text/x-python",
   "name": "python",
   "nbconvert_exporter": "python",
   "pygments_lexer": "ipython3",
   "version": "3.11.3"
  }
 },
 "nbformat": 4,
 "nbformat_minor": 5
}
