{
 "cells": [
  {
   "cell_type": "code",
   "execution_count": 1,
   "id": "772e7394-bcbb-4316-a207-0200666f1b41",
   "metadata": {
    "tags": []
   },
   "outputs": [],
   "source": [
    "import os\n",
    "import glob\n",
    "import numpy as np\n",
    "from scripts.env import Environment\n",
    "from scripts.dataloader import Topology_Traffic"
   ]
  },
  {
   "cell_type": "code",
   "execution_count": 2,
   "id": "567dcd40-af54-42f4-bc62-f9a22470dae9",
   "metadata": {
    "tags": []
   },
   "outputs": [
    {
     "name": "stdout",
     "output_type": "stream",
     "text": [
      "Loading topology data... /home/jh/2python_pr/Abilene_DRL/data_processed/node_list_data.npy\n",
      "Loading traffic matrices... /home/jh/2python_pr/Abilene_DRL/data/X01\n",
      "Traffic matrices dims: (2016, 5, 12, 12)\n"
     ]
    }
   ],
   "source": [
    "# a = Topology_Traffic()\n",
    "b = Environment()"
   ]
  },
  {
   "cell_type": "code",
   "execution_count": 3,
   "id": "d93b995e-a7a7-40ba-bc3e-8a2ecd0945ee",
   "metadata": {
    "tags": []
   },
   "outputs": [
    {
     "data": {
      "text/plain": [
       "2016"
      ]
     },
     "execution_count": 3,
     "metadata": {},
     "output_type": "execute_result"
    }
   ],
   "source": [
    "len(b)"
   ]
  },
  {
   "cell_type": "code",
   "execution_count": 4,
   "id": "7887d2bf-5bc0-491b-b6d2-012475677a3d",
   "metadata": {
    "scrolled": true,
    "tags": []
   },
   "outputs": [
    {
     "data": {
      "text/plain": [
       "torch.Size([12, 12])"
      ]
     },
     "execution_count": 4,
     "metadata": {},
     "output_type": "execute_result"
    }
   ],
   "source": [
    "b[0]['demand'].shape # id out of 2016"
   ]
  },
  {
   "cell_type": "code",
   "execution_count": 5,
   "id": "01aa2b5b-dbb7-46ee-97de-bf9bdc4c499b",
   "metadata": {
    "scrolled": true,
    "tags": []
   },
   "outputs": [],
   "source": [
    "link_util = b.compute_link_utilization(channel = 0)"
   ]
  },
  {
   "cell_type": "code",
   "execution_count": 6,
   "id": "7ea26d95-0f11-4b17-82a0-6b0229303186",
   "metadata": {
    "tags": []
   },
   "outputs": [],
   "source": [
    "# len(link_util)"
   ]
  },
  {
   "cell_type": "code",
   "execution_count": 7,
   "id": "8263ae5e-a315-40d4-92f5-2e242ec2963b",
   "metadata": {
    "tags": []
   },
   "outputs": [],
   "source": [
    "link_util"
   ]
  },
  {
   "cell_type": "code",
   "execution_count": 9,
   "id": "61f1dbee-89e8-4780-88a9-d4dc3e16482b",
   "metadata": {},
   "outputs": [
    {
     "data": {
      "text/plain": [
       "array([  9096.2421875 ,  24893.2265625 , 150875.91666667,  66401.55729167,\n",
       "       136371.29166667, 485642.8046875 , 244227.578125  , 376853.98177083,\n",
       "       183482.83333333,  90314.19791667,  92215.20833333,  35994.71875   ,\n",
       "       209344.04947917,  53757.73958333, 551735.33072917, 426501.54427083,\n",
       "       328236.98697917,  55555.65104167, 435931.10416667,  94952.10416667,\n",
       "       243392.53125   , 498467.27083333, 262911.65885417, 237203.79427083,\n",
       "       181404.97135417,  30326.85416667,  86094.8359375 ,  33031.39322917,\n",
       "       305708.04166667, 374953.73958333])"
      ]
     },
     "execution_count": 9,
     "metadata": {},
     "output_type": "execute_result"
    }
   ],
   "source": [
    "b.traffic"
   ]
  },
  {
   "cell_type": "code",
   "execution_count": 13,
   "id": "fce1b83f-bc41-4919-86ab-0a2c9b2f50d3",
   "metadata": {
    "tags": []
   },
   "outputs": [
    {
     "data": {
      "text/plain": [
       "array([9920000., 9920000., 9920000., 2480000., 9920000., 9920000.,\n",
       "       9920000., 9920000., 9920000., 9920000., 9920000., 9920000.,\n",
       "       9920000., 2480000., 9920000., 9920000., 9920000., 9920000.,\n",
       "       9920000., 9920000., 9920000., 9920000., 9920000., 9920000.,\n",
       "       9920000., 9920000., 9920000., 9920000., 9920000., 9920000.])"
      ]
     },
     "execution_count": 13,
     "metadata": {},
     "output_type": "execute_result"
    }
   ],
   "source": [
    "b.link_capacities"
   ]
  },
  {
   "cell_type": "code",
   "execution_count": 10,
   "id": "e0ff7e2a-09fa-4d62-8473-fcb76c31c23f",
   "metadata": {
    "tags": []
   },
   "outputs": [],
   "source": [
    "# b.compute_link_utilization(0)"
   ]
  },
  {
   "cell_type": "code",
   "execution_count": 11,
   "id": "757ae3ed-e826-4646-97bc-abe71fa8aab7",
   "metadata": {
    "tags": []
   },
   "outputs": [],
   "source": [
    "c = b.calculate_total_traveling_time()"
   ]
  },
  {
   "cell_type": "code",
   "execution_count": 12,
   "id": "142a497c-fd90-452c-8789-902984e55952",
   "metadata": {
    "tags": []
   },
   "outputs": [
    {
     "data": {
      "text/plain": [
       "np.float64(3.714139563523793e-06)"
      ]
     },
     "execution_count": 12,
     "metadata": {},
     "output_type": "execute_result"
    }
   ],
   "source": [
    "c"
   ]
  },
  {
   "cell_type": "code",
   "execution_count": null,
   "id": "b09ae913-e8f0-4056-871b-7ba781c0cb97",
   "metadata": {},
   "outputs": [],
   "source": []
  }
 ],
 "metadata": {
  "kernelspec": {
   "display_name": "abilene",
   "language": "python",
   "name": "abilene"
  },
  "language_info": {
   "codemirror_mode": {
    "name": "ipython",
    "version": 3
   },
   "file_extension": ".py",
   "mimetype": "text/x-python",
   "name": "python",
   "nbconvert_exporter": "python",
   "pygments_lexer": "ipython3",
   "version": "3.11.3"
  }
 },
 "nbformat": 4,
 "nbformat_minor": 5
}
